{
 "cells": [
  {
   "cell_type": "markdown",
   "metadata": {},
   "source": [
    "# numpy-一通道图像变成三通道图像"
   ]
  },
  {
   "cell_type": "markdown",
   "metadata": {},
   "source": [
    "## 方法一：\n",
    "\n",
    "```python\n",
    "\n",
    "np.array([mask for i in range(3)]).transpose(1,2,0)\n",
    "```\n",
    "\n",
    "其中mask的shape是(height,width).\n",
    "\n",
    "如果是(height,width,1)那么应用第一种方法就需要删除维度"
   ]
  },
  {
   "cell_type": "markdown",
   "metadata": {},
   "source": [
    "## 方法二：\n",
    "\n",
    "np.repeat(mask[...,np.newaxis],3,2)\n",
    "\n",
    "其中mask的shape是(height,width).\n",
    "\n",
    "如果是(height,width,1)就需要去掉[...,np.newaxis]这一部分"
   ]
  },
  {
   "cell_type": "code",
   "execution_count": null,
   "metadata": {},
   "outputs": [],
   "source": []
  }
 ],
 "metadata": {
  "kernelspec": {
   "display_name": "Python 3",
   "language": "python",
   "name": "python3"
  },
  "language_info": {
   "codemirror_mode": {
    "name": "ipython",
    "version": 3
   },
   "file_extension": ".py",
   "mimetype": "text/x-python",
   "name": "python",
   "nbconvert_exporter": "python",
   "pygments_lexer": "ipython3",
   "version": "3.6.8"
  }
 },
 "nbformat": 4,
 "nbformat_minor": 2
}
